{
 "cells": [
  {
   "cell_type": "code",
   "execution_count": 1,
   "metadata": {
    "collapsed": true
   },
   "outputs": [],
   "source": [
    "#==============================================================================\n",
    "# Import libraries\n",
    "#==============================================================================\n",
    "\n",
    "import numpy as np\n",
    "import matplotlib.pyplot as plt\n",
    "import pandas as pd"
   ]
  },
  {
   "cell_type": "code",
   "execution_count": 2,
   "metadata": {
    "collapsed": true
   },
   "outputs": [],
   "source": [
    "#==============================================================================\n",
    "# import data from the data file. In our case its Insurance.csv. \n",
    "#==============================================================================\n",
    "\n",
    "insuranceData = pd.read_csv ('C://Users//Sudipta//Desktop//ML//cellstrat//assignment//datasets//Insurance.csv')\n",
    "\n"
   ]
  },
  {
   "cell_type": "code",
   "execution_count": 5,
   "metadata": {
    "collapsed": false
   },
   "outputs": [
    {
     "data": {
      "text/html": [
       "<div>\n",
       "<table border=\"1\" class=\"dataframe\">\n",
       "  <thead>\n",
       "    <tr style=\"text-align: right;\">\n",
       "      <th></th>\n",
       "      <th>Age</th>\n",
       "      <th>Insurance Premium (Rs)</th>\n",
       "    </tr>\n",
       "  </thead>\n",
       "  <tbody>\n",
       "    <tr>\n",
       "      <th>0</th>\n",
       "      <td>25</td>\n",
       "      <td>4500</td>\n",
       "    </tr>\n",
       "    <tr>\n",
       "      <th>1</th>\n",
       "      <td>30</td>\n",
       "      <td>5000</td>\n",
       "    </tr>\n",
       "    <tr>\n",
       "      <th>2</th>\n",
       "      <td>35</td>\n",
       "      <td>6000</td>\n",
       "    </tr>\n",
       "    <tr>\n",
       "      <th>3</th>\n",
       "      <td>40</td>\n",
       "      <td>8000</td>\n",
       "    </tr>\n",
       "    <tr>\n",
       "      <th>4</th>\n",
       "      <td>45</td>\n",
       "      <td>11000</td>\n",
       "    </tr>\n",
       "  </tbody>\n",
       "</table>\n",
       "</div>"
      ],
      "text/plain": [
       "   Age  Insurance Premium (Rs)\n",
       "0   25                    4500\n",
       "1   30                    5000\n",
       "2   35                    6000\n",
       "3   40                    8000\n",
       "4   45                   11000"
      ]
     },
     "execution_count": 5,
     "metadata": {},
     "output_type": "execute_result"
    }
   ],
   "source": [
    "insuranceData.head()"
   ]
  },
  {
   "cell_type": "code",
   "execution_count": 3,
   "metadata": {
    "collapsed": true
   },
   "outputs": [],
   "source": [
    "#==============================================================================\n",
    "# All mathematical operations will be performed on the matrix, so now we create\n",
    "# matrix for dependent variables and independent variables.\n",
    "#==============================================================================\n",
    "\n",
    "X = insuranceData.iloc [:,0:1].values\n",
    "y = insuranceData.iloc [:, 1].values"
   ]
  },
  {
   "cell_type": "code",
   "execution_count": 3,
   "metadata": {
    "collapsed": true
   },
   "outputs": [],
   "source": [
    "#==============================================================================\n",
    "# We will not distribute the dataset into test and train as we have very less \n",
    "# number of data and which is not equally distributed, so if we miss any of \n",
    "# the value, it may have severe implications on the model creation.\n",
    "#=============================================================================="
   ]
  },
  {
   "cell_type": "code",
   "execution_count": 4,
   "metadata": {
    "collapsed": false
   },
   "outputs": [
    {
     "data": {
      "text/plain": [
       "LinearRegression(copy_X=True, fit_intercept=True, n_jobs=1, normalize=False)"
      ]
     },
     "execution_count": 4,
     "metadata": {},
     "output_type": "execute_result"
    }
   ],
   "source": [
    "#==============================================================================\n",
    "# Let us first fit data with linear regression to see the comparison later\n",
    "#==============================================================================\n",
    "\n",
    "from sklearn.linear_model import LinearRegression\n",
    "linregressor = LinearRegression()\n",
    "linregressor.fit(X, y)"
   ]
  },
  {
   "cell_type": "code",
   "execution_count": 7,
   "metadata": {
    "collapsed": false
   },
   "outputs": [
    {
     "data": {
      "text/plain": [
       "LinearRegression(copy_X=True, fit_intercept=True, n_jobs=1, normalize=False)"
      ]
     },
     "execution_count": 7,
     "metadata": {},
     "output_type": "execute_result"
    }
   ],
   "source": [
    "#==============================================================================\n",
    "# Now fit the polynomial regressor. First we will use degree 2 and later higher\n",
    "# If one changes the degree from 2 to 3 or higher, a higher tendency to overfit\n",
    "# is seen.\n",
    "#==============================================================================\n",
    "\n",
    "from sklearn.preprocessing import PolynomialFeatures # Features\n",
    "\n",
    "# First create a polynomial\n",
    "polyfeature = PolynomialFeatures(degree = 3)\n",
    "Poly_Matrix = polyfeature.fit_transform(X)\n",
    "\n",
    "# Now fit the polynomial matrix into linear regressor\n",
    "linregressor2 = LinearRegression()\n",
    "linregressor2.fit(Poly_Matrix, y)"
   ]
  },
  {
   "cell_type": "code",
   "execution_count": 10,
   "metadata": {
    "collapsed": false
   },
   "outputs": [
    {
     "data": {
      "image/png": "[encoded data removed]",
      "text/plain": [
       "<Figure size 432x288 with 1 Axes>"
      ]
     },
     "metadata": {},
     "output_type": "display_data"
    },
    {
     "data": {
      "image/png": "[encoded data removed]",
      "text/plain": [
       "<Figure size 432x288 with 1 Axes>"
      ]
     },
     "metadata": {},
     "output_type": "display_data"
    }
   ],
   "source": [
    "#==============================================================================\n",
    "# Visualize both linear and polynomial regressor algo outcome\n",
    "#==============================================================================\n",
    "# Visualising the Linear Regression results\n",
    "plt.scatter(X, y, color = 'red')\n",
    "plt.plot(X, linregressor.predict(X), color = 'blue')\n",
    "plt.title('Insurance Premium - Linear')\n",
    "plt.xlabel('Age')\n",
    "plt.ylabel('Premium')\n",
    "plt.show()\n",
    "\n",
    "# Visualising the  Regression results\n",
    "plt.scatter(X, y, color = 'red')\n",
    "plt.plot(X, linregressor2.predict(polyfeature.fit_transform(X)), color = 'green')\n",
    "plt.title('Insurance Premium - Polynomial')\n",
    "plt.xlabel('Age')\n",
    "plt.ylabel('Premium')\n",
    "plt.show()\n",
    "\n"
   ]
  },
  {
   "cell_type": "code",
   "execution_count": 11,
   "metadata": {
    "collapsed": false
   },
   "outputs": [
    {
     "name": "stdout",
     "output_type": "stream",
     "text": [
      "linear prediction =  [ 77521.21212121]\n",
      "polynomial prediction =  [ 217503.03030376]\n"
     ]
    }
   ],
   "source": [
    "#==============================================================================\n",
    "# Now see how accurately polynomial and linear regressor predict premium based\n",
    "# on age\n",
    "#==============================================================================\n",
    "\n",
    "val = 80\n",
    "predictionlinear = linregressor.predict (val)\n",
    "predictionPoly = linregressor2.predict (polyfeature.fit_transform(val))\n",
    "\n",
    "print (\"linear prediction = \", predictionlinear)\n",
    "print (\"polynomial prediction = \", predictionPoly)"
   ]
  },
  {
   "cell_type": "code",
   "execution_count": 12,
   "metadata": {
    "collapsed": false
   },
   "outputs": [
    {
     "data": {
      "image/png": "[encoded data removed]",
      "text/plain": [
       "<Figure size 432x288 with 1 Axes>"
      ]
     },
     "metadata": {},
     "output_type": "display_data"
    },
    {
     "data": {
      "image/png": "[encoded data removed]",
      "text/plain": [
       "<Figure size 432x288 with 1 Axes>"
      ]
     },
     "metadata": {},
     "output_type": "display_data"
    }
   ],
   "source": [
    "# now let's see visually whether the respective regressors gave the correct output for val = 68\n",
    "# note the correct output in prior polynomial trend and compare with what the following graphs predict\n",
    "# for val = 68, we expect output value closer to 70000 as per initial data trend\n",
    "# Visualising the Linear Regression results\n",
    "\n",
    "plt.scatter(val, predictionlinear, color = 'red')\n",
    "plt.plot(X, linregressor.predict(X), color = 'blue')\n",
    "plt.title('Insurance Premium - Test with Linear')\n",
    "plt.xlabel('Age')\n",
    "plt.ylabel('Premium')\n",
    "plt.show()\n",
    "\n",
    "# Visualising the Polynomial Regression results\n",
    "plt.scatter(val, predictionPoly, color = 'red')\n",
    "plt.plot(X, linregressor2.predict(polyfeature.fit_transform(X)), color = 'green')\n",
    "plt.title('Insurance Premium - Test with Polynomial')\n",
    "plt.xlabel('Age')\n",
    "plt.ylabel('Premium')\n",
    "plt.show()"
   ]
  },
  {
   "cell_type": "code",
   "execution_count": null,
   "metadata": {
    "collapsed": true
   },
   "outputs": [],
   "source": []
  }
 ],
 "metadata": {
  "anaconda-cloud": {},
  "kernelspec": {
   "display_name": "Python [default]",
   "language": "python",
   "name": "python3"
  },
  "language_info": {
   "codemirror_mode": {
    "name": "ipython",
    "version": 3
   },
   "file_extension": ".py",
   "mimetype": "text/x-python",
   "name": "python",
   "nbconvert_exporter": "python",
   "pygments_lexer": "ipython3",
   "version": "3.5.5"
  }
 },
 "nbformat": 4,
 "nbformat_minor": 2
}

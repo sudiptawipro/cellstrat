{
 "cells": [
  {
   "cell_type": "markdown",
   "metadata": {},
   "source": [
    "# Linear Regression"
   ]
  },
  {
   "cell_type": "markdown",
   "metadata": {},
   "source": [
    "### Create X and Y data"
   ]
  },
  {
   "cell_type": "code",
   "execution_count": 19,
   "metadata": {
    "collapsed": true
   },
   "outputs": [
    {
     "name": "stdout",
     "output_type": "stream",
     "text": [
      "100\n",
      "x =  [[ 302.59879673]\n",
      " [ 380.24061852]\n",
      " [ 224.23308223]\n",
      " [ 397.78235358]\n",
      " [ 152.91653722]\n",
      " [ 388.91132784]\n",
      " [   5.87853936]\n",
      " [  16.89475962]\n",
      " [  93.48644018]\n",
      " [ 346.34264319]\n",
      " [ 323.16459667]\n",
      " [  59.35359772]\n",
      " [ 370.92303042]\n",
      " [ 402.49387369]\n",
      " [ 382.7671749 ]\n",
      " [ 216.89510931]\n",
      " [  52.76010435]\n",
      " [ 293.08879149]\n",
      " [  78.9997264 ]\n",
      " [ 235.34124705]\n",
      " [ 213.05848893]\n",
      " [  44.11410778]\n",
      " [ 479.41778162]\n",
      " [ 420.97072679]\n",
      " [  56.17968478]\n",
      " [ 311.24694923]\n",
      " [ 368.98747245]\n",
      " [ 169.98654647]\n",
      " [ 421.52901277]\n",
      " [ 147.40069499]\n",
      " [ 235.66250562]\n",
      " [ 153.73930965]\n",
      " [ 210.54090468]\n",
      " [ 395.42234445]\n",
      " [ 238.29857129]\n",
      " [ 247.13633635]\n",
      " [ 357.11482581]\n",
      " [ 488.33092125]\n",
      " [ 446.07710293]\n",
      " [  34.6589038 ]\n",
      " [  89.55999869]\n",
      " [ 399.70133966]\n",
      " [ 201.73493106]\n",
      " [ 127.19415322]\n",
      " [  76.70338917]\n",
      " [  71.81623223]\n",
      " [ 306.56492286]\n",
      " [ 461.53212894]\n",
      " [ 413.14946477]\n",
      " [ 198.92959072]\n",
      " [ 100.83515597]\n",
      " [ 426.8155874 ]\n",
      " [ 221.54757129]\n",
      " [  49.64099539]\n",
      " [ 203.87851053]\n",
      " [ 396.91630623]\n",
      " [ 113.57815435]\n",
      " [ 336.04262079]\n",
      " [ 115.88611657]\n",
      " [ 150.40523764]\n",
      " [ 137.93863862]\n",
      " [ 385.35926815]\n",
      " [ 487.44410278]\n",
      " [ 171.70825247]\n",
      " [ 438.0081424 ]\n",
      " [  41.7802379 ]\n",
      " [ 498.89426662]\n",
      " [ 243.04341435]\n",
      " [ 364.86958308]\n",
      " [ 272.21605521]\n",
      " [ 264.89637844]\n",
      " [ 103.49928878]\n",
      " [ 232.57812975]\n",
      " [ 299.45156081]\n",
      " [ 313.29147717]\n",
      " [ 154.28554843]\n",
      " [ 350.88484975]\n",
      " [ 133.72515702]\n",
      " [ 475.91030868]\n",
      " [ 424.53616715]\n",
      " [ 400.43931275]\n",
      " [ 169.33050065]\n",
      " [ 231.90380144]\n",
      " [ 304.95048555]\n",
      " [ 396.04269335]\n",
      " [ 100.23885261]\n",
      " [ 103.49878202]\n",
      " [  16.13812666]\n",
      " [ 193.60743633]\n",
      " [ 392.97821463]\n",
      " [ 447.69484368]\n",
      " [ 395.934549  ]\n",
      " [ 229.19366959]\n",
      " [   4.55604437]\n",
      " [  18.33451272]\n",
      " [ 239.56382285]\n",
      " [  98.47072664]\n",
      " [ 480.77408333]\n",
      " [  94.90079218]\n",
      " [ 428.39663756]]\n",
      "100\n",
      "y =  [[ 1515.99398363]\n",
      " [ 1904.20309262]\n",
      " [ 1124.16541115]\n",
      " [ 1991.91176789]\n",
      " [  767.5826861 ]\n",
      " [ 1947.55663921]\n",
      " [   32.3926968 ]\n",
      " [   87.4737981 ]\n",
      " [  470.43220088]\n",
      " [ 1734.71321594]\n",
      " [ 1618.82298335]\n",
      " [  299.7679886 ]\n",
      " [ 1857.61515211]\n",
      " [ 2015.46936843]\n",
      " [ 1916.8358745 ]\n",
      " [ 1087.47554657]\n",
      " [  266.80052175]\n",
      " [ 1468.44395747]\n",
      " [  397.998632  ]\n",
      " [ 1179.70623523]\n",
      " [ 1068.29244467]\n",
      " [  223.5705389 ]\n",
      " [ 2400.08890812]\n",
      " [ 2107.85363397]\n",
      " [  283.89842388]\n",
      " [ 1559.23474615]\n",
      " [ 1847.93736224]\n",
      " [  852.93273237]\n",
      " [ 2110.64506385]\n",
      " [  740.00347493]\n",
      " [ 1181.31252812]\n",
      " [  771.69654824]\n",
      " [ 1055.70452341]\n",
      " [ 1980.11172227]\n",
      " [ 1194.49285647]\n",
      " [ 1238.68168173]\n",
      " [ 1788.57412906]\n",
      " [ 2444.65460625]\n",
      " [ 2233.38551463]\n",
      " [  176.29451902]\n",
      " [  450.79999344]\n",
      " [ 2001.50669829]\n",
      " [ 1011.67465532]\n",
      " [  638.97076608]\n",
      " [  386.51694585]\n",
      " [  362.08116113]\n",
      " [ 1535.82461431]\n",
      " [ 2310.66064468]\n",
      " [ 2068.74732384]\n",
      " [  997.64795361]\n",
      " [  507.17577983]\n",
      " [ 2137.07793701]\n",
      " [ 1110.73785647]\n",
      " [  251.20497696]\n",
      " [ 1022.39255264]\n",
      " [ 1987.58153114]\n",
      " [  570.89077173]\n",
      " [ 1683.21310395]\n",
      " [  582.43058287]\n",
      " [  755.02618821]\n",
      " [  692.69319311]\n",
      " [ 1929.79634076]\n",
      " [ 2440.2205139 ]\n",
      " [  861.54126233]\n",
      " [ 2193.04071202]\n",
      " [  211.90118951]\n",
      " [ 2497.47133308]\n",
      " [ 1218.21707177]\n",
      " [ 1827.3479154 ]\n",
      " [ 1364.08027604]\n",
      " [ 1327.48189221]\n",
      " [  520.49644392]\n",
      " [ 1165.89064877]\n",
      " [ 1500.25780405]\n",
      " [ 1569.45738587]\n",
      " [  774.42774216]\n",
      " [ 1757.42424874]\n",
      " [  671.62578508]\n",
      " [ 2382.55154341]\n",
      " [ 2125.68083576]\n",
      " [ 2005.19656374]\n",
      " [  849.65250326]\n",
      " [ 1162.51900719]\n",
      " [ 1527.75242777]\n",
      " [ 1983.21346673]\n",
      " [  504.19426305]\n",
      " [  520.49391011]\n",
      " [   83.69063331]\n",
      " [  971.03718166]\n",
      " [ 1967.89107316]\n",
      " [ 2241.4742184 ]\n",
      " [ 1982.67274501]\n",
      " [ 1148.96834795]\n",
      " [   25.78022185]\n",
      " [   94.6725636 ]\n",
      " [ 1200.81911425]\n",
      " [  495.35363322]\n",
      " [ 2406.87041667]\n",
      " [  477.50396089]\n",
      " [ 2144.98318778]]\n"
     ]
    }
   ],
   "source": [
    "import numpy as np\n",
    "\n",
    "def create_y(x):\n",
    "    #res = x*5 + 3 + np.random.randn(len(x)).reshape((len(x),1))*0.3\n",
    "    \n",
    "    #Added by Sudipta\n",
    "    res = x*5 + 3\n",
    "        \n",
    "    return res\n",
    "\n",
    "x = np.random.uniform(1,500,100) #create 100 random numbers between 1 and 500\n",
    "x=x.reshape(len(x),1)\n",
    "print(np.size(x))\n",
    "print (\"x = \", x)\n",
    "y = create_y(x)\n",
    "print(np.size(y))\n",
    "print(\"y = \", y)\n"
   ]
  },
  {
   "cell_type": "markdown",
   "metadata": {},
   "source": [
    "### Run the training & test steps"
   ]
  },
  {
   "cell_type": "code",
   "execution_count": 23,
   "metadata": {
    "collapsed": false
   },
   "outputs": [
    {
     "name": "stdout",
     "output_type": "stream",
     "text": [
      " y = [ 5.] * x + [ 3.]\n"
     ]
    }
   ],
   "source": [
    "import numpy as np\n",
    "from sklearn import linear_model\n",
    "\n",
    "linReg = linear_model.LinearRegression()\n",
    "\n",
    "\n",
    "#first 90 numbers are taken for training step. Last 10 numbers for test step.\n",
    "X_train = np.array(x[:-20])\n",
    "Y_train = np.array(y[:-20])\n",
    "\n",
    "X_test = x[-20:]\n",
    "Y_test = y[-20:]\n",
    "\n",
    "# feed the linear regression with the train data to obtain a model.\n",
    "linReg.fit(X_train, Y_train)\n",
    "m = linReg.coef_[0]\n",
    "b = linReg.intercept_\n",
    "print(' y = {0} * x + {1}'.format(m, b))"
   ]
  },
  {
   "cell_type": "markdown",
   "metadata": {},
   "source": [
    "### Plot the curve"
   ]
  },
  {
   "cell_type": "code",
   "execution_count": 1,
   "metadata": {
    "collapsed": false
   },
   "outputs": [
    {
     "ename": "NameError",
     "evalue": "name 'x' is not defined",
     "output_type": "error",
     "traceback": [
      "\u001b[0;31m---------------------------------------------------------------------------\u001b[0m",
      "\u001b[0;31mNameError\u001b[0m                                 Traceback (most recent call last)",
      "\u001b[0;32m<ipython-input-1-d405ab1fac5a>\u001b[0m in \u001b[0;36m<module>\u001b[0;34m()\u001b[0m\n\u001b[1;32m      2\u001b[0m \u001b[1;32mimport\u001b[0m \u001b[0mnumpy\u001b[0m \u001b[1;32mas\u001b[0m \u001b[0mnp\u001b[0m\u001b[1;33m\u001b[0m\u001b[0m\n\u001b[1;32m      3\u001b[0m \u001b[1;33m\u001b[0m\u001b[0m\n\u001b[0;32m----> 4\u001b[0;31m \u001b[0mplt\u001b[0m\u001b[1;33m.\u001b[0m\u001b[0mscatter\u001b[0m\u001b[1;33m(\u001b[0m\u001b[0mx\u001b[0m\u001b[1;33m,\u001b[0m\u001b[0my\u001b[0m\u001b[1;33m,\u001b[0m\u001b[0mcolor\u001b[0m\u001b[1;33m=\u001b[0m\u001b[1;34m'k'\u001b[0m\u001b[1;33m)\u001b[0m\u001b[1;33m\u001b[0m\u001b[0m\n\u001b[0m\u001b[1;32m      5\u001b[0m \u001b[0mmin_x\u001b[0m\u001b[1;33m=\u001b[0m \u001b[0mnp\u001b[0m\u001b[1;33m.\u001b[0m\u001b[0mmin\u001b[0m\u001b[1;33m(\u001b[0m\u001b[0mx\u001b[0m\u001b[1;33m)\u001b[0m\u001b[1;33m\u001b[0m\u001b[0m\n\u001b[1;32m      6\u001b[0m \u001b[0mmax_x\u001b[0m\u001b[1;33m=\u001b[0m \u001b[0mnp\u001b[0m\u001b[1;33m.\u001b[0m\u001b[0mmax\u001b[0m\u001b[1;33m(\u001b[0m\u001b[0mx\u001b[0m\u001b[1;33m)\u001b[0m\u001b[1;33m\u001b[0m\u001b[0m\n",
      "\u001b[0;31mNameError\u001b[0m: name 'x' is not defined"
     ]
    }
   ],
   "source": [
    "import matplotlib.pyplot as plt\n",
    "import numpy as np\n",
    "\n",
    "plt.scatter(x,y,color='k')\n",
    "min_x= np.min(x)\n",
    "max_x= np.max(x)\n",
    "plt.plot([min_x, max_x], [b, m*max_x + b], 'r')\n",
    "\n",
    "plt.title('Linear Regression')\n",
    "plt.xlabel('x')\n",
    "plt.ylabel('y')\n",
    "plt.show()"
   ]
  },
  {
   "cell_type": "markdown",
   "metadata": {},
   "source": [
    "### Print variance score"
   ]
  },
  {
   "cell_type": "code",
   "execution_count": 25,
   "metadata": {
    "collapsed": false
   },
   "outputs": [
    {
     "name": "stdout",
     "output_type": "stream",
     "text": [
      "MSE: 0.00\n",
      "Variance score: 1.00\n"
     ]
    }
   ],
   "source": [
    "print(\"MSE: %.2f\" % np.mean((linReg.predict(X_test) - Y_test) ** 2))\n",
    "# Explained variance score: 1 is perfect prediction\n",
    "print('Variance score: %.2f' % linReg.score(X_test, Y_test))"
   ]
  },
  {
   "cell_type": "code",
   "execution_count": null,
   "metadata": {
    "collapsed": true
   },
   "outputs": [],
   "source": []
  }
 ],
 "metadata": {
  "anaconda-cloud": {},
  "kernelspec": {
   "display_name": "Python [default]",
   "language": "python",
   "name": "python3"
  },
  "language_info": {
   "codemirror_mode": {
    "name": "ipython",
    "version": 3
   },
   "file_extension": ".py",
   "mimetype": "text/x-python",
   "name": "python",
   "nbconvert_exporter": "python",
   "pygments_lexer": "ipython3",
   "version": "3.5.5"
  }
 },
 "nbformat": 4,
 "nbformat_minor": 2
}
